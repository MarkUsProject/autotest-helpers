{
 "cells": [
  {
   "cell_type": "markdown",
   "id": "6920ccbe",
   "metadata": {},
   "source": [
    "This notebook contains two cells, where the first has a syntax error."
   ]
  },
  {
   "cell_type": "code",
   "execution_count": 6,
   "id": "db8f5c50",
   "metadata": {},
   "outputs": [],
   "source": [
    "10 +"
   ]
  },
  {
   "cell_type": "code",
   "execution_count": 3,
   "id": "97df1cad",
   "metadata": {},
   "outputs": [],
   "source": [
    "x = 0"
   ]
  }
 ],
 "metadata": {
  "kernelspec": {
   "display_name": "Python 3",
   "language": "python",
   "name": "python3"
  },
  "language_info": {
   "codemirror_mode": {
    "name": "ipython",
    "version": 3
   },
   "file_extension": ".py",
   "mimetype": "text/x-python",
   "name": "python",
   "nbconvert_exporter": "python",
   "pygments_lexer": "ipython3",
   "version": "3.9.0"
  }
 },
 "nbformat": 4,
 "nbformat_minor": 5
}
